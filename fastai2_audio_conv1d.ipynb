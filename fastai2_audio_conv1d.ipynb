{
 "cells": [
  {
   "cell_type": "code",
   "execution_count": null,
   "metadata": {},
   "outputs": [],
   "source": [
    "%load_ext autoreload\n",
    "%autoreload 2"
   ]
  },
  {
   "cell_type": "code",
   "execution_count": 1,
   "metadata": {},
   "outputs": [],
   "source": [
    "from fastai2.vision.all import *\n",
    "#import librosa.core\n",
    "#import librosa.display\n",
    "import torchaudio\n",
    "import torchaudio.transforms"
   ]
  },
  {
   "cell_type": "code",
   "execution_count": 2,
   "metadata": {},
   "outputs": [
    {
     "data": {
      "text/plain": [
       "Path('/home/jupyter/.fastai/data/macaques_24414Hz')"
      ]
     },
     "execution_count": 2,
     "metadata": {},
     "output_type": "execute_result"
    }
   ],
   "source": [
    "path = untar_data('https://storage.googleapis.com/ml-animal-sounds-datasets/macaques_24414Hz.zip')\n",
    "path"
   ]
  },
  {
   "cell_type": "code",
   "execution_count": 3,
   "metadata": {},
   "outputs": [],
   "source": [
    "class TensorAudio(TensorBase):\n",
    "          \n",
    "    @classmethod\n",
    "    def create(cls, o, norm=True):\n",
    "        o, sr = torchaudio.load(o, normalization=norm)\n",
    "        #o = cls(tensor(o).float())\n",
    "        o = cls(o)\n",
    "        o.sr = sr\n",
    "        o.mode = 'raw'\n",
    "        #print(str(sr))\n",
    "        return o\n",
    "    '''\n",
    "    def show(self, ctx=None):\n",
    "        if self.mode == 'raw':\n",
    "            print(self.shape)\n",
    "            librosa.display.waveplot(np.asarray(self.squeeze()), sr=self.sr)\n",
    "            #print(img.shape)\n",
    "    '''   \n",
    "\n",
    "class AudioFixLength(Transform):\n",
    "\n",
    "    def __init__(self, length=0.0):\n",
    "        self.length = length\n",
    "\n",
    "    def encodes(self, o: TensorAudio):\n",
    "        if self.length > 0.0:\n",
    "            n_samples = int(o.sr * self.length)\n",
    "            if n_samples < len(o.squeeze()):\n",
    "                o = torch.split(o, n_samples, dim=1)[0]\n",
    "            else:\n",
    "                n_pad = int(o.sr * self.length - len(o.squeeze()))\n",
    "                n_pre = (torch.rand(1) * n_pad).int()\n",
    "                n_post = n_pad - n_pre\n",
    "                o = F.pad(input=o, pad=(n_pre,n_post), mode='constant', value=0)\n",
    "        return o\n",
    "    \n",
    "class AudioResample(Transform):\n",
    "\n",
    "    def __init__(self, target_sr=0, device='cpu'):\n",
    "        self.target_sr = target_sr\n",
    "        self.device = device\n",
    "\n",
    "    def encodes(self, o: TensorAudio):\n",
    "        if self.target_sr != o.sr:\n",
    "            resample = torchaudio.transforms.Resample(orig_freq=o.sr, new_freq=self.target_sr).to(self.device)\n",
    "            o = TensorAudio(resample(o))\n",
    "            o.sr = self.target_sr\n",
    "        return o\n",
    "    \n",
    "'''    \n",
    "class AudioNormalize(Transform):\n",
    "    def __init__(self, mean, std, device='cpu'):\n",
    "        self.mean = mean\n",
    "        self.std = std\n",
    "        self.device = device\n",
    "        \n",
    "    def encodes(self, o: TensorAudio):\n",
    "        return ((o - self.mean) / self.std).to(self.device)\n",
    "'''    \n",
    "    \n",
    "class AudioRandomCrop(RandTransform):\n",
    "    \n",
    "    def __init__(self, p=1.0, length=0.0): \n",
    "        super().__init__(p=p)\n",
    "        self.length = length\n",
    "        \n",
    "    def encodes(self, o: TensorAudio): \n",
    "        if length > 0.0:\n",
    "            n_samples = int(o.sr * self.length)\n",
    "            if n_samples < len(o[0]):\n",
    "                n_cut = len(o[0]) - n_samples\n",
    "                n_pre = (n_cut * torch.rand(1)).int()\n",
    "                o = o[:,n_pre:(n_samples + n_pre)]\n",
    "        return o    \n",
    "    \n",
    "\n",
    "class AudioAddNoise(RandTransform):\n",
    "    \"Randomly add noise with probability `p`\"\n",
    "    def __init__(self, p=0.5, device='cpu'): \n",
    "        super().__init__(p=p)\n",
    "        self.device=device\n",
    "        \n",
    "    def encodes(self, o: TensorAudio): \n",
    "        noise_amp = (0.001*torch.rand(1) * torch.max(o)).to(self.device)\n",
    "        o = o + noise_amp * torch.empty(o.shape).normal_().to(self.device)\n",
    "        return o\n",
    "    \n",
    "\n",
    "class AudioToTensor(Transform):\n",
    "\n",
    "    def encodes(self, o: TensorAudio):\n",
    "        o = tensor(o).float()\n",
    "        return o\n",
    "\n",
    "def AudioBlock(length=0.0):\n",
    "    return TransformBlock(type_tfms=TensorAudio.create, batch_tfms=AudioToTensor)"
   ]
  },
  {
   "cell_type": "code",
   "execution_count": 4,
   "metadata": {},
   "outputs": [],
   "source": [
    "length = 0.75\n",
    "device = torch.device(\"cuda:0\" if torch.cuda.is_available() else \"cpu\")\n",
    "dblocks = DataBlock(blocks = (AudioBlock,CategoryBlock),\n",
    "                 get_items=get_files, \n",
    "                 splitter=RandomSplitter(seed=42),\n",
    "                 get_y=parent_label,\n",
    "                 #item_tfms=[AudioFixLength(length=length)],\n",
    "                 item_tfms=[AudioRandomCrop(length=length),AudioFixLength(length=length),AudioResample(target_sr=(24414//2), device=device)],\n",
    "                 batch_tfms=[AudioAddNoise(device=device)]\n",
    "                 )\n",
    "\n",
    "dls=dblocks.dataloaders(path, bs=128)"
   ]
  },
  {
   "cell_type": "code",
   "execution_count": 5,
   "metadata": {},
   "outputs": [
    {
     "data": {
      "text/plain": [
       "(TensorAudio([[[ 9.4939e-05,  6.4828e-04, -8.2458e-04,  ...,  7.1550e-04,\n",
       "            2.4212e-04, -8.2191e-04]],\n",
       " \n",
       "         [[-1.0187e-03,  8.1909e-04,  3.3860e-04,  ..., -1.5206e-03,\n",
       "            3.5711e-04,  1.1457e-03]],\n",
       " \n",
       "         [[-7.1973e-06,  1.1989e-03,  9.1447e-05,  ..., -2.9456e-04,\n",
       "            2.0925e-05, -1.2266e-03]],\n",
       " \n",
       "         ...,\n",
       " \n",
       "         [[-1.0008e-03,  7.6347e-04,  5.8068e-04,  ...,  1.2952e-03,\n",
       "           -6.3447e-04, -1.6165e-03]],\n",
       " \n",
       "         [[ 2.7157e-05,  2.4352e-04,  1.4905e-03,  ...,  1.8629e-04,\n",
       "           -4.8376e-05, -1.3087e-04]],\n",
       " \n",
       "         [[-1.3569e-04,  2.4133e-04, -1.2097e-03,  ..., -4.8362e-04,\n",
       "            1.6097e-03,  3.3244e-04]]], device='cuda:0'),\n",
       " TensorCategory([1, 0, 3, 0, 5, 0, 7, 6, 6, 4, 1, 6, 7, 6, 2, 3, 2, 2, 4, 7, 1, 7, 0, 3,\n",
       "         4, 3, 0, 5, 3, 3, 6, 0, 0, 3, 2, 2, 2, 3, 7, 6, 1, 6, 0, 6, 5, 6, 6, 4,\n",
       "         6, 5, 6, 4, 5, 7, 7, 6, 3, 1, 6, 1, 2, 6, 4, 6, 2, 3, 4, 4, 0, 0, 2, 7,\n",
       "         0, 0, 2, 4, 7, 0, 5, 2, 3, 1, 2, 3, 3, 6, 6, 3, 1, 6, 5, 2, 3, 6, 6, 0,\n",
       "         0, 2, 1, 2, 2, 1, 6, 3, 1, 6, 7, 5, 4, 3, 2, 2, 6, 6, 6, 0, 6, 4, 7, 2,\n",
       "         2, 3, 2, 3, 6, 5, 6, 5], device='cuda:0'))"
      ]
     },
     "execution_count": 5,
     "metadata": {},
     "output_type": "execute_result"
    }
   ],
   "source": [
    "dls.one_batch()"
   ]
  },
  {
   "cell_type": "code",
   "execution_count": 6,
   "metadata": {},
   "outputs": [],
   "source": [
    "# https://www.kaggle.com/readilen/resnet-for-mnist-with-pytorch\n",
    "\n",
    "def conv1xk(in_channels, out_channels, kernel_size=3, stride=1):\n",
    "    padding = kernel_size // 2\n",
    "    return nn.Conv1d(in_channels, out_channels, kernel_size=kernel_size,\n",
    "                    stride=stride, padding=padding, bias=False)\n",
    "\n",
    "# Residual block\n",
    "class ResidualBlock(nn.Module):\n",
    "    def __init__(self, in_channels, out_channels, kernel_size=3, stride=1, downsample=None):\n",
    "        super(ResidualBlock, self).__init__()\n",
    "        self.conv1 = conv1xk(in_channels, out_channels, kernel_size, stride)\n",
    "        self.bn1 = nn.BatchNorm1d(out_channels)\n",
    "        self.relu = nn.ReLU(inplace=True)\n",
    "        self.conv2 = conv1xk(out_channels, out_channels, kernel_size)\n",
    "        self.bn2 = nn.BatchNorm1d(out_channels)\n",
    "        self.downsample = downsample\n",
    "\n",
    "    def forward(self, x):\n",
    "        #print(\"in\", x.shape)\n",
    "        residual = x\n",
    "        out = self.conv1(x)\n",
    "        #print(\"conv1\", out.shape)\n",
    "        out = self.bn1(out)\n",
    "        #print(\"bn1\", out.shape)\n",
    "        out = self.relu(out)\n",
    "        out = self.conv2(out)\n",
    "        #print(\"conv2\", out.shape)\n",
    "        out = self.bn2(out)\n",
    "        #print(\"bn2\", out.shape)\n",
    "        if self.downsample:\n",
    "            #print(\"downsample\")\n",
    "            residual = self.downsample(residual)\n",
    "        #print(\"+\", out.shape, residual.shape)\n",
    "        out += residual\n",
    "        out = self.relu(out)\n",
    "        return out\n",
    "    \n",
    "# ResNet\n",
    "class ResNet(nn.Module):\n",
    "    def __init__(self, block, layers, num_classes=10, kernel_size=3, stride=2):\n",
    "        super(ResNet, self).__init__()\n",
    "        self.in_channels = 16\n",
    "        self.conv = conv1xk(1, 16)\n",
    "        self.bn = nn.BatchNorm1d(16)\n",
    "        self.relu = nn.ReLU(inplace=True)\n",
    "        self.layer1 = self.make_layer(block, 16, layers[0], kernel_size)\n",
    "        self.layer2 = self.make_layer(block, 32, layers[0], kernel_size, stride)\n",
    "        self.layer3 = self.make_layer(block, 64, layers[1], kernel_size, stride)\n",
    "        self.layer4 = self.make_layer(block, 128, layers[2], kernel_size, stride)\n",
    "        self.layer5 = self.make_layer(block, 256, layers[3], kernel_size, stride)\n",
    "        self.layer6 = self.make_layer(block, 512, layers[4], kernel_size, stride)\n",
    "        self.avg_pool = nn.AvgPool1d(8)\n",
    "        self.fc1 = nn.Linear(512, 48)\n",
    "        self.fc2 = nn.Linear(48, num_classes)\n",
    "\n",
    "    def make_layer(self, block, out_channels, blocks, kernel_size=3, stride=1):\n",
    "        downsample = None\n",
    "        if (stride != 1) or (self.in_channels != out_channels):\n",
    "            downsample = nn.Sequential(\n",
    "                conv1xk (self.in_channels, out_channels, kernel_size=kernel_size, stride=stride),\n",
    "                nn.BatchNorm1d(out_channels))\n",
    "        layers = []\n",
    "        layers.append(block(self.in_channels, out_channels, kernel_size, stride, downsample))\n",
    "        self.in_channels = out_channels\n",
    "        for i in range(1, blocks):\n",
    "            layers.append(block(out_channels, out_channels))\n",
    "        return nn.Sequential(*layers)\n",
    "\n",
    "    def forward(self, x):\n",
    "        out = self.conv(x)\n",
    "        out = self.bn(out)\n",
    "        out = self.layer1(out)\n",
    "        out = self.layer2(out)\n",
    "        out = self.layer3(out)\n",
    "        out = self.layer4(out)\n",
    "        out = self.layer5(out)\n",
    "        out = self.layer6(out)\n",
    "        out = self.avg_pool(out)\n",
    "        out = out.view(out.size(0), -1)\n",
    "        out = self.fc1(out)\n",
    "        out = self.fc2(out)\n",
    "        return out"
   ]
  },
  {
   "cell_type": "code",
   "execution_count": 7,
   "metadata": {},
   "outputs": [],
   "source": [
    "kernel_size = 15\n",
    "stride = 4\n",
    "\n",
    "net_args = {\n",
    "    \"block\": ResidualBlock,\n",
    "    \"layers\": [2, 2, 2, 2, 2, 2],\n",
    "    \"kernel_size\": kernel_size,\n",
    "    \"stride\": stride,\n",
    "    \"num_classes\": 8\n",
    "}\n",
    "model = ResNet(**net_args)"
   ]
  },
  {
   "cell_type": "code",
   "execution_count": 8,
   "metadata": {},
   "outputs": [],
   "source": [
    "learn = Learner(dls, model, loss_func=F.cross_entropy, metrics=accuracy, cbs=ShowGraphCallback())"
   ]
  },
  {
   "cell_type": "code",
   "execution_count": 9,
   "metadata": {},
   "outputs": [
    {
     "data": {
      "text/html": [],
      "text/plain": [
       "<IPython.core.display.HTML object>"
      ]
     },
     "metadata": {},
     "output_type": "display_data"
    },
    {
     "data": {
      "text/plain": [
       "SuggestedLRs(lr_min=0.0013182567432522773, lr_steep=0.0005754399462603033)"
      ]
     },
     "execution_count": 9,
     "metadata": {},
     "output_type": "execute_result"
    },
    {
     "data": {
      "image/png": "[encoded data removed]",
      "text/plain": [
       "<Figure size 432x288 with 1 Axes>"
      ]
     },
     "metadata": {
      "needs_background": "light"
     },
     "output_type": "display_data"
    }
   ],
   "source": [
    "learn.lr_find()"
   ]
  },
  {
   "cell_type": "code",
   "execution_count": 10,
   "metadata": {},
   "outputs": [
    {
     "data": {
      "text/html": [
       "<table border=\"1\" class=\"dataframe\">\n",
       "  <thead>\n",
       "    <tr style=\"text-align: left;\">\n",
       "      <th>epoch</th>\n",
       "      <th>train_loss</th>\n",
       "      <th>valid_loss</th>\n",
       "      <th>accuracy</th>\n",
       "      <th>time</th>\n",
       "    </tr>\n",
       "  </thead>\n",
       "  <tbody>\n",
       "    <tr>\n",
       "      <td>0</td>\n",
       "      <td>1.031887</td>\n",
       "      <td>2.211211</td>\n",
       "      <td>0.380233</td>\n",
       "      <td>00:14</td>\n",
       "    </tr>\n",
       "    <tr>\n",
       "      <td>1</td>\n",
       "      <td>0.562918</td>\n",
       "      <td>0.416986</td>\n",
       "      <td>0.856555</td>\n",
       "      <td>00:08</td>\n",
       "    </tr>\n",
       "    <tr>\n",
       "      <td>2</td>\n",
       "      <td>0.361789</td>\n",
       "      <td>0.238167</td>\n",
       "      <td>0.909403</td>\n",
       "      <td>00:08</td>\n",
       "    </tr>\n",
       "    <tr>\n",
       "      <td>3</td>\n",
       "      <td>0.259190</td>\n",
       "      <td>0.171434</td>\n",
       "      <td>0.940288</td>\n",
       "      <td>00:08</td>\n",
       "    </tr>\n",
       "    <tr>\n",
       "      <td>4</td>\n",
       "      <td>0.188702</td>\n",
       "      <td>0.138273</td>\n",
       "      <td>0.949211</td>\n",
       "      <td>00:08</td>\n",
       "    </tr>\n",
       "  </tbody>\n",
       "</table>"
      ],
      "text/plain": [
       "<IPython.core.display.HTML object>"
      ]
     },
     "metadata": {},
     "output_type": "display_data"
    },
    {
     "data": {
      "image/png": "[encoded data removed]",
      "text/plain": [
       "<Figure size 432x288 with 1 Axes>"
      ]
     },
     "metadata": {},
     "output_type": "display_data"
    }
   ],
   "source": [
    "learn.unfreeze()\n",
    "learn.fit_one_cycle(5, 3e-4)"
   ]
  },
  {
   "cell_type": "code",
   "execution_count": null,
   "metadata": {},
   "outputs": [],
   "source": []
  }
 ],
 "metadata": {
  "kernelspec": {
   "display_name": "Python 3.7.7 64-bit ('fastai2dev': conda)",
   "language": "python",
   "name": "python37764bitfastai2devcondad17707a22a844ea991623d01eaaa741f"
  },
  "language_info": {
   "codemirror_mode": {
    "name": "ipython",
    "version": 3
   },
   "file_extension": ".py",
   "mimetype": "text/x-python",
   "name": "python",
   "nbconvert_exporter": "python",
   "pygments_lexer": "ipython3",
   "version": "3.7.7"
  }
 },
 "nbformat": 4,
 "nbformat_minor": 4
}
